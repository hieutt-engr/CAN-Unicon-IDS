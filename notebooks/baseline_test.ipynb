{
 "cells": [
  {
   "cell_type": "code",
   "execution_count": 2,
   "metadata": {},
   "outputs": [
    {
     "name": "stdout",
     "output_type": "stream",
     "text": [
      "['/home/hieutt/UniCon/notebooks', '/home/hieutt/miniconda3/envs/torchtf/lib/python39.zip', '/home/hieutt/miniconda3/envs/torchtf/lib/python3.9', '/home/hieutt/miniconda3/envs/torchtf/lib/python3.9/lib-dynload', '', '/home/hieutt/miniconda3/envs/torchtf/lib/python3.9/site-packages', '../']\n"
     ]
    }
   ],
   "source": [
    "%load_ext autoreload\n",
    "%autoreload 2\n",
    "\n",
    "import sys\n",
    "sys.path.append('../')\n",
    "print(sys.path)"
   ]
  },
  {
   "cell_type": "code",
   "execution_count": 3,
   "metadata": {},
   "outputs": [],
   "source": [
    "import torch\n",
    "import torch.nn.functional as F\n",
    "from networks.resnet_big import CEResNet\n",
    "from networks.vision_trans import CEViT\n",
    "from networks.lstm_cnn import LSTMCNN\n",
    "from networks.rec_cnn import RecCNN\n",
    "from dataset import CANDatasetEnet as CANDataset \n",
    "import torch\n",
    "from torchvision import transforms, datasets\n",
    "import tqdm\n",
    "import matplotlib.pyplot as plt\n",
    "from sklearn.decomposition import PCA\n",
    "from sklearn.manifold import TSNE\n",
    "from torch.utils.data import DataLoader"
   ]
  },
  {
   "cell_type": "code",
   "execution_count": 4,
   "metadata": {},
   "outputs": [],
   "source": [
    "seed = 1\n",
    "torch.manual_seed(seed)\n",
    "torch.cuda.manual_seed(seed)\n",
    "torch.cuda.manual_seed_all(seed)\n",
    "device = torch.device(\"cuda\")"
   ]
  },
  {
   "cell_type": "code",
   "execution_count": 4,
   "metadata": {},
   "outputs": [],
   "source": [
    "def change_state_dict(state_dict):\n",
    "    \"\"\"\n",
    "    Because state dict in distributed GPU is different\n",
    "    \"\"\"\n",
    "    new_state_dict = {}\n",
    "    for k, v in state_dict.items():\n",
    "        k = k.replace(\"module.\", \"\")\n",
    "        new_state_dict[k] = v\n",
    "    return new_state_dict"
   ]
  },
  {
   "cell_type": "code",
   "execution_count": 5,
   "metadata": {},
   "outputs": [],
   "source": [
    "can_transform = transforms.Compose([\n",
    "    transforms.Normalize(mean=[0.5, 0.5, 0.5], std=[0.5, 0.5, 0.5])\n",
    "])\n",
    "# data/can-ml/2017-subaru-forester/preprocessed/size_64_10_baseline/TFRecord_w64_s32/2\n",
    "test_dataset = CANDataset(root_dir='../data/can-ml/2017-subaru-forester/preprocessed/size_64_10_baseline/TFRecord_w64_s32/2', window_size=32, is_train=False, transform=can_transform)\n",
    "test_loader = DataLoader(test_dataset, batch_size=128, shuffle=False, num_workers=2)"
   ]
  },
  {
   "cell_type": "code",
   "execution_count": 6,
   "metadata": {},
   "outputs": [
    {
     "data": {
      "text/plain": [
       "<All keys matched successfully>"
      ]
     },
     "execution_count": 6,
     "metadata": {},
     "output_type": "execute_result"
    }
   ],
   "source": [
    "model = CEResNet(num_classes=10)\n",
    "# # model = LSTMCNN(num_classes=10)\n",
    "# # model = RecCNN(num_classes=10)\n",
    "# model = CEViT(\n",
    "#     emb_size=256,\n",
    "#     img_size=64,\n",
    "#     n_classes=10\n",
    "# )\n",
    "\n",
    "\n",
    "# save_path = '../save/CAN-ML_models/BaseLine/BaseLine_CAN-ML_ViT_lr_0.05_decay_0.0001_bsz_128_trial_can_ml_vit_64_2017_v2_cosine_warm'  # 10% data , VIT\n",
    "save_path = '../save/CAN-ML_models/CE/CE_CAN-ML_resnet50_lr_0.05_decay_0.0001_bsz_64_trial_can_ml_ce_64_cosine_warm' # 10% data, ResNet50 CE\n",
    "# save_path = '../save/CAN-ML_models/BaseLine/BaseLine_CAN-ML_rec_cnn_lr_0.05_decay_0.0001_bsz_128_trial_can_ml_rec_cnn_64_cosine_warm' # 10% data, LSTM \n",
    "# save_path = '../save/CAN-ML_models/BaseLine/BaseLine_CAN-ML_rec_cnn_lr_0.05_decay_0.0001_bsz_128_trial_can_ml_rec_cnn_64_cosine_warm' # 10% data, RecCNN\n",
    "ckpt_epoch = 22\n",
    "\n",
    "model_path = f'{save_path}/ckpt_epoch_{ckpt_epoch}.pth'\n",
    "ckpt = torch.load(model_path, weights_only=False)\n",
    "state_dict = ckpt['model']\n",
    "state_dict = change_state_dict(state_dict)\n",
    "model.load_state_dict(state_dict=state_dict, strict=False)\n"
   ]
  },
  {
   "cell_type": "code",
   "execution_count": 7,
   "metadata": {},
   "outputs": [
    {
     "name": "stderr",
     "output_type": "stream",
     "text": [
      "100%|██████████| 205/205 [00:31<00:00,  6.57it/s]\n"
     ]
    }
   ],
   "source": [
    "import numpy as np\n",
    "import tqdm\n",
    "import torch\n",
    "from sklearn.metrics import accuracy_score, classification_report\n",
    "\n",
    "total_pred = np.empty(shape=(0), dtype=int)\n",
    "total_label = np.empty(shape=(0), dtype=int)\n",
    "\n",
    "model = model.to(device)\n",
    "model.eval()\n",
    "\n",
    "with torch.no_grad():\n",
    "    for images, labels in tqdm.tqdm(test_loader):\n",
    "        images = images.to(device, non_blocking=True)\n",
    "        \n",
    "        outputs = model(images)\n",
    "        \n",
    "        _, pred = torch.max(outputs, 1)\n",
    "        \n",
    "        pred = pred.cpu().numpy()\n",
    "        labels = labels.cpu().numpy()\n",
    "        \n",
    "        total_pred = np.concatenate((total_pred, pred), axis=0)\n",
    "        total_label = np.concatenate((total_label, labels), axis=0)\n",
    "\n",
    "\n"
   ]
  },
  {
   "cell_type": "code",
   "execution_count": 8,
   "metadata": {},
   "outputs": [
    {
     "name": "stdout",
     "output_type": "stream",
     "text": [
      "Accuracy: 0.9921419034903681\n",
      "Classification Report:\n",
      "               precision    recall  f1-score   support\n",
      "\n",
      "      Normal     0.9943    0.9963    0.9953     20973\n",
      "    Combined     0.9751    0.9840    0.9796      1315\n",
      "         DoS     0.9805    1.0000    0.9901       201\n",
      "       Fuzzy     1.0000    0.8937    0.9439       254\n",
      "        Gear     0.8767    0.9387    0.9066       212\n",
      "    Interval     1.0000    0.9974    0.9987      1909\n",
      "         RPM     0.9815    0.9298    0.9550       399\n",
      "       Speed     0.9935    0.9541    0.9734       479\n",
      "  Standstill     1.0000    1.0000    1.0000       186\n",
      "  Systematic     0.9615    0.9582    0.9599       287\n",
      "\n",
      "    accuracy                         0.9921     26215\n",
      "   macro avg     0.9763    0.9652    0.9702     26215\n",
      "weighted avg     0.9922    0.9921    0.9921     26215\n",
      "\n"
     ]
    }
   ],
   "source": [
    "accuracy = accuracy_score(total_label, total_pred) \n",
    "print(\"Accuracy:\", accuracy)\n",
    "\n",
    "target_names = ['Normal', 'Combined', 'DoS', 'Fuzzy', 'Gear', 'Interval', 'RPM', 'Speed', 'Standstill', 'Systematic']\n",
    "report = classification_report(total_label, total_pred, target_names=target_names, digits=4)\n",
    "print(\"Classification Report:\\n\", report)"
   ]
  },
  {
   "cell_type": "code",
   "execution_count": 9,
   "metadata": {},
   "outputs": [],
   "source": [
    "from sklearn.metrics import confusion_matrix\n",
    "\n",
    "def cal_metric(label, pred):\n",
    "    cm = confusion_matrix(label, pred)\n",
    "    recall = np.diag(cm) / np.sum(cm, axis=1)\n",
    "    precision = np.diag(cm) / np.sum(cm, axis=0)\n",
    "    precision[np.isnan(precision)] = 0  # Handle NaN values in precision\n",
    "    \n",
    "    f1 = 2 * recall * precision / (recall + precision)\n",
    "    f1[np.isnan(f1)] = 0  # Handle NaN values in F1 score\n",
    "    \n",
    "    total_actual = np.sum(cm, axis=1)\n",
    "    true_predicted = np.diag(cm)\n",
    "    fnr = (total_actual - true_predicted) * 100 / total_actual\n",
    "    \n",
    "    return cm, {\n",
    "        'fnr': np.array(fnr),\n",
    "        'rec': recall,\n",
    "        'pre': precision,\n",
    "        'f1': f1\n",
    "    }"
   ]
  },
  {
   "cell_type": "code",
   "execution_count": 10,
   "metadata": {},
   "outputs": [],
   "source": [
    "def print_metrics_horizontal(metrics, class_names):\n",
    "    # Determine the maximum width for class names for proper alignment\n",
    "    max_name_len = max(len(name) for name in class_names) + 2  # Extra padding\n",
    "    \n",
    "    # Print header with class names aligned\n",
    "    header = f\"{'Metric':<6} | \" + \" | \".join([f\"{name:<{max_name_len}}\" for name in class_names])\n",
    "    print(header)\n",
    "    print(\"-\" * (14 + len(class_names) * (max_name_len + 2)))\n",
    "    \n",
    "    # Print each metric's values for all classes\n",
    "    for key, values in metrics.items():\n",
    "        row = f\"{key.upper():<6} | \" + \" | \".join([f\"{value:<{max_name_len}.4f}\" for value in values])\n",
    "        print(row)"
   ]
  },
  {
   "cell_type": "code",
   "execution_count": 11,
   "metadata": {},
   "outputs": [],
   "source": [
    "classes = ['Normal', 'Combined', 'DoS', 'Fuzzy', 'Gear', 'Interval', 'RPM', 'Speed', 'Standstill', 'Systematic']\n",
    "colors = ['#1f77b4', '#ff7f0e', '#2ca02c', '#d62728', '#9467bd', '#8c564b', '#e377c2', '#7f7f7f', '#bcbd22', '#17becf']\n",
    "n_classes = len(classes)"
   ]
  },
  {
   "cell_type": "code",
   "execution_count": 12,
   "metadata": {},
   "outputs": [
    {
     "name": "stdout",
     "output_type": "stream",
     "text": [
      "Metric | Normal       | Combined     | DoS          | Fuzzy        | Gear         | Interval     | RPM          | Speed        | Standstill   | Systematic  \n",
      "----------------------------------------------------------------------------------------------------------------------------------------------------------\n",
      "FNR    | 0.3719       | 1.5970       | 0.0000       | 10.6299      | 6.1321       | 0.2619       | 7.0175       | 4.5929       | 0.0000       | 4.1812      \n",
      "REC    | 0.9963       | 0.9840       | 1.0000       | 0.8937       | 0.9387       | 0.9974       | 0.9298       | 0.9541       | 1.0000       | 0.9582      \n",
      "PRE    | 0.9943       | 0.9751       | 0.9805       | 1.0000       | 0.8767       | 1.0000       | 0.9815       | 0.9935       | 1.0000       | 0.9615      \n",
      "F1     | 0.9953       | 0.9796       | 0.9901       | 0.9439       | 0.9066       | 0.9987       | 0.9550       | 0.9734       | 1.0000       | 0.9599      \n"
     ]
    }
   ],
   "source": [
    "cm, results = cal_metric(total_label, total_pred)\n",
    "print_metrics_horizontal(results, classes)"
   ]
  },
  {
   "cell_type": "code",
   "execution_count": 14,
   "metadata": {},
   "outputs": [],
   "source": [
    "confusion_matrix = np.array([\n",
    "    [20895,    26,     4,     0,    28,     0,     7,     3,     0,    10],\n",
    "    [   21,  1294,     0,     0,     0,     0,     0,     0,     0,     0],\n",
    "    [    0,     0,   201,     0,     0,     0,     0,     0,     0,     0],\n",
    "    [   26,     0,     0,   227,     0,     0,     0,     0,     0,     1],\n",
    "    [   12,     0,     0,     0,   200,     0,     0,     0,     0,     0],\n",
    "    [    5,     0,     0,     0,     0,  1904,     0,     0,     0,     0],\n",
    "    [   23,     5,     0,     0,     0,     0,   371,     0,     0,     0],\n",
    "    [   20,     2,     0,     0,     0,     0,     0,   457,     0,     0],\n",
    "    [    5,     0,     0,     0,     0,     0,     0,     0,   186,     0],\n",
    "    [   12,     0,     0,     0,     0,     0,     0,     0,     0,   275]\n",
    "])"
   ]
  },
  {
   "cell_type": "code",
   "execution_count": 15,
   "metadata": {},
   "outputs": [],
   "source": [
    "import pandas as pd\n",
    "import seaborn as sns\n",
    "import matplotlib.pyplot as plt\n",
    "import numpy as np\n",
    "def draw_confusion_matrix(cm, classes, save_dir=None):\n",
    "    cm_df = pd.DataFrame(cm,\n",
    "                     index = classes, \n",
    "                     columns = classes)\n",
    "    mask = np.zeros_like(cm)\n",
    "    np.fill_diagonal(mask, 1)\n",
    "    plt.figure(figsize=(10,8))\n",
    "    # sns.heatmap(cm_df, fmt='d', annot=True, cmap='YlGnBu', cbar=False, linewidths=0.5)\n",
    "    sns.heatmap(cm_df, fmt='d', annot=True, cmap='YlGnBu', cbar=False, \n",
    "            linewidths=0.5, vmin=0, vmax=2500,)\n",
    "    plt.xticks(rotation=45, ha='right')\n",
    "    plt.title('Confusion Matrix - CE Resnet50')\n",
    "    plt.ylabel('Actual Values')\n",
    "    plt.xlabel('Predicted Values')\n",
    "    if save_dir is not None:\n",
    "        plt.savefig(save_dir.format(ckpt_epoch), dpi=300, bbox_inches=\"tight\", pad_inches=0.5)\n",
    "    plt.show()"
   ]
  },
  {
   "cell_type": "code",
   "execution_count": 16,
   "metadata": {},
   "outputs": [
    {
     "data": {
      "image/png": "[encoded data removed]",
      "text/plain": [
       "<Figure size 1000x800 with 1 Axes>"
      ]
     },
     "metadata": {},
     "output_type": "display_data"
    }
   ],
   "source": [
    "# draw_confusion_matrix(cm, classes, save_dir='../pic/conf_matrix/confusion_matrix_ViT_transfer_can_ml_{}.png')\n",
    "draw_confusion_matrix(cm, classes, save_dir='../pic/conf_matrix/confusion_matrix_CE-Resnet_{}.png')"
   ]
  },
  {
   "cell_type": "code",
   "execution_count": 17,
   "metadata": {},
   "outputs": [
    {
     "name": "stdout",
     "output_type": "stream",
     "text": [
      "Classification Report: ViT \n",
      "               precision    recall  f1-score   support\n",
      "\n",
      "      Normal     0.9854    0.9943    0.9899     20973\n",
      "    Combined     0.9650    0.9437    0.9542      1315\n",
      "         DoS     1.0000    0.9950    0.9975       201\n",
      "       Fuzzy     0.9710    0.9213    0.9455       254\n",
      "        Gear     0.9471    0.8443    0.8928       212\n",
      "    Interval     0.9873    0.9764    0.9818      1909\n",
      "         RPM     0.9492    0.8421    0.8924       399\n",
      "       Speed     0.9660    0.8894    0.9261       479\n",
      "  Standstill     0.9944    0.9624    0.9781       186\n",
      "  Systematic     0.9380    0.8955    0.9162       287\n",
      "\n",
      "    accuracy                         0.9830     26215\n",
      "   macro avg     0.9703    0.9264    0.9475     26215\n",
      "weighted avg     0.9829    0.9830    0.9828     26215\n",
      "\n"
     ]
    }
   ],
   "source": [
    "from sklearn.metrics import classification_report\n",
    "\n",
    "# Confusion Matrix (cm)\n",
    "cm = np.array([\n",
    "    [20854,   41,   0,   5,  10,  16,  16,  14,  1,  16],\n",
    "    [   68, 1241,  0,   0,   0,   5,   1,   0,  0,  0],\n",
    "    [    1,    0, 200,  0,   0,   0,   0,   0,  0,  0],\n",
    "    [   19,    0,  0, 234,  0,   0,   0,   0,  0,  1],\n",
    "    [   31,    0,  0,   0, 179,  1,   1,   0,  0,  0],\n",
    "    [   43,    2,  0,   0,   0, 1864, 0,   0,  0,  0],\n",
    "    [   61,    1,  0,   0,   0,   0, 336,  1,  0,  0],\n",
    "    [   50,    1,  0,   0,   0,   2,   0, 426, 0,  0],\n",
    "    [    7,    0,  0,   0,   0,   0,   0,   0, 179, 0],\n",
    "    [   28,    0,  0,   2,   0,   0,   0,   0,  0, 257]\n",
    "])\n",
    "\n",
    "# Reconstruct y_true and y_pred from confusion matrix\n",
    "y_true = []\n",
    "y_pred = []\n",
    "\n",
    "num_classes = cm.shape[0]\n",
    "for i in range(num_classes):\n",
    "    for j in range(num_classes):\n",
    "        count = cm[i][j]\n",
    "        y_true.extend([i] * count)\n",
    "        y_pred.extend([j] * count)\n",
    "\n",
    "# Generate classification report\n",
    "target_names = ['Normal', 'Combined', 'DoS', 'Fuzzy', 'Gear', 'Interval', 'RPM', 'Speed', 'Standstill', 'Systematic']\n",
    "report = classification_report(y_true, y_pred, target_names=target_names, digits=4)\n",
    "print(\"Classification Report: ViT \\n\", report)\n"
   ]
  },
  {
   "cell_type": "code",
   "execution_count": 57,
   "metadata": {},
   "outputs": [
    {
     "name": "stdout",
     "output_type": "stream",
     "text": [
      "Classification Report: LSTM CNN \n",
      "               precision    recall  f1-score   support\n",
      "\n",
      "      Normal     0.9895    0.9979    0.9936     20973\n",
      "    Combined     0.9868    0.9696    0.9781      1315\n",
      "         DoS     1.0000    0.9900    0.9950       201\n",
      "       Fuzzy     0.9544    0.9055    0.9293       254\n",
      "        Gear     0.9778    0.8302    0.8980       212\n",
      "    Interval     0.9984    0.9937    0.9961      1909\n",
      "         RPM     0.9777    0.8772    0.9247       399\n",
      "       Speed     0.9870    0.9520    0.9692       479\n",
      "  Standstill     0.9944    0.9516    0.9725       186\n",
      "  Systematic     0.9843    0.8711    0.9242       287\n",
      "\n",
      "    accuracy                         0.9894     26215\n",
      "   macro avg     0.9850    0.9339    0.9581     26215\n",
      "weighted avg     0.9894    0.9894    0.9892     26215\n",
      "\n"
     ]
    }
   ],
   "source": [
    "from sklearn.metrics import classification_report\n",
    "\n",
    "# Confusion Matrix (cm)\n",
    "cm = np.array([\n",
    "    [20928,    15,     0,     6,     4,     2,     8,     5,     1,     4],\n",
    "    [   37,  1275,     0,     2,     0,     1,     0,     0,     0,     0],\n",
    "    [    2,     0,   199,     0,     0,     0,     0,     0,     0,     0],\n",
    "    [   24,     0,     0,   230,     0,     0,     0,     0,     0,     0],\n",
    "    [   36,     0,     0,     0,   176,     0,     0,     0,     0,     0],\n",
    "    [   11,     1,     0,     0,     0,  1897,     0,     0,     0,     0],\n",
    "    [   47,     1,     0,     0,     0,     0,   350,     1,     0,     0],\n",
    "    [   23,     0,     0,     0,     0,     0,     0,   456,     0,     0],\n",
    "    [    9,     0,     0,     0,     0,     0,     0,     0,   177,     0],\n",
    "    [   34,     0,     0,     3,     0,     0,     0,     0,     0,   250]\n",
    "])\n",
    "\n",
    "# Reconstruct y_true and y_pred from confusion matrix\n",
    "y_true = []\n",
    "y_pred = []\n",
    "\n",
    "num_classes = cm.shape[0]\n",
    "for i in range(num_classes):\n",
    "    for j in range(num_classes):\n",
    "        count = cm[i][j]\n",
    "        y_true.extend([i] * count)\n",
    "        y_pred.extend([j] * count)\n",
    "\n",
    "# Generate classification report\n",
    "target_names = ['Normal', 'Combined', 'DoS', 'Fuzzy', 'Gear', 'Interval', 'RPM', 'Speed', 'Standstill', 'Systematic']\n",
    "report = classification_report(y_true, y_pred, target_names=target_names, digits=4)\n",
    "print(\"Classification Report: LSTM CNN \\n\", report)\n"
   ]
  },
  {
   "cell_type": "code",
   "execution_count": 58,
   "metadata": {},
   "outputs": [
    {
     "name": "stdout",
     "output_type": "stream",
     "text": [
      "Classification Report: REC CNN \n",
      "               precision    recall  f1-score   support\n",
      "\n",
      "      Normal     0.9911    0.9975    0.9943     20973\n",
      "    Combined     0.9861    0.9703    0.9782      1315\n",
      "         DoS     1.0000    0.9801    0.9899       201\n",
      "       Fuzzy     0.9750    0.9213    0.9474       254\n",
      "        Gear     0.9579    0.8585    0.9055       212\n",
      "    Interval     0.9979    0.9969    0.9974      1909\n",
      "         RPM     0.9725    0.8872    0.9279       399\n",
      "       Speed     0.9934    0.9436    0.9679       479\n",
      "  Standstill     1.0000    0.9785    0.9891       186\n",
      "  Systematic     0.9568    0.9268    0.9416       287\n",
      "\n",
      "    accuracy                         0.9905     26215\n",
      "   macro avg     0.9831    0.9461    0.9639     26215\n",
      "weighted avg     0.9905    0.9905    0.9904     26215\n",
      "\n"
     ]
    }
   ],
   "source": [
    "from sklearn.metrics import classification_report\n",
    "\n",
    "# Confusion Matrix (cm)\n",
    "cm = np.array([\n",
    "    [20921,    17,     0,     2,     8,     3,     8,     3,     0,    11],\n",
    "    [   37,  1276,     0,     0,     0,     0,     2,     0,     0,     0],\n",
    "    [    4,     0,   197,     0,     0,     0,     0,     0,     0,     0],\n",
    "    [   19,     0,     0,   234,     0,     0,     0,     0,     0,     1],\n",
    "    [   30,     0,     0,     0,   182,     0,     0,     0,     0,     0],\n",
    "    [    6,     0,     0,     0,     0,  1903,     0,     0,     0,     0],\n",
    "    [   45,     0,     0,     0,     0,     0,   354,     0,     0,     0],\n",
    "    [   25,     1,     0,     0,     0,     1,     0,   452,     0,     0],\n",
    "    [    4,     0,     0,     0,     0,     0,     0,     0,   182,     0],\n",
    "    [   17,     0,     0,     4,     0,     0,     0,     0,     0,   266]\n",
    "])\n",
    "\n",
    "# Reconstruct y_true and y_pred from confusion matrix\n",
    "y_true = []\n",
    "y_pred = []\n",
    "\n",
    "num_classes = cm.shape[0]\n",
    "for i in range(num_classes):\n",
    "    for j in range(num_classes):\n",
    "        count = cm[i][j]\n",
    "        y_true.extend([i] * count)\n",
    "        y_pred.extend([j] * count)\n",
    "\n",
    "# Generate classification report\n",
    "target_names = ['Normal', 'Combined', 'DoS', 'Fuzzy', 'Gear', 'Interval', 'RPM', 'Speed', 'Standstill', 'Systematic']\n",
    "report = classification_report(y_true, y_pred, target_names=target_names, digits=4)\n",
    "print(\"Classification Report: REC CNN \\n\", report)\n"
   ]
  },
  {
   "cell_type": "markdown",
   "metadata": {},
   "source": [
    "## Transfer learning result"
   ]
  },
  {
   "cell_type": "code",
   "execution_count": 33,
   "metadata": {},
   "outputs": [
    {
     "name": "stdout",
     "output_type": "stream",
     "text": [
      "Classification Report: Transfer learning E-Unicon \n",
      "               precision    recall  f1-score   support\n",
      "\n",
      "      Normal     0.9997    0.9988    0.9993     25551\n",
      "    Combined     0.9912    0.9982    0.9947       564\n",
      "         DoS     1.0000    1.0000    1.0000       334\n",
      "       Fuzzy     0.9893    0.9929    0.9911       560\n",
      "        Gear     0.9950    1.0000    0.9975       198\n",
      "    Interval     0.9939    0.9969    0.9954       327\n",
      "         RPM     0.9861    0.9965    0.9913       285\n",
      "       Speed     0.9907    1.0000    0.9953       425\n",
      "  Standstill     0.9618    0.9934    0.9773       152\n",
      "  Systematic     0.9925    1.0000    0.9963       266\n",
      "\n",
      "    accuracy                         0.9987     28662\n",
      "   macro avg     0.9900    0.9977    0.9938     28662\n",
      "weighted avg     0.9987    0.9987    0.9987     28662\n",
      "\n"
     ]
    }
   ],
   "source": [
    "from sklearn.metrics import classification_report\n",
    "import numpy as np\n",
    "cm = np.array([\n",
    "    [25521,    5,    0,    6,    1,    2,    4,    4,    6,    2],\n",
    "    [    1,  563,    0,    0,    0,    0,    0,    0,    0,    0],\n",
    "    [    0,    0,  334,    0,    0,    0,    0,    0,    0,    0],\n",
    "    [    4,    0,    0,  556,    0,    0,    0,    0,    0,    0],\n",
    "    [    0,    0,    0,    0,  198,    0,    0,    0,    0,    0],\n",
    "    [    1,    0,    0,    0,    0,  326,    0,    0,    0,    0],\n",
    "    [    1,    0,    0,    0,    0,    0,  284,    0,    0,    0],\n",
    "    [    0,    0,    0,    0,    0,    0,    0,  425,    0,    0],\n",
    "    [    1,    0,    0,    0,    0,    0,    0,    0,  151,    0],\n",
    "    [    0,    0,    0,    0,    0,    0,    0,    0,    0,  266]\n",
    "])\n",
    "y_true = []\n",
    "y_pred = []\n",
    "\n",
    "num_classes = cm.shape[0]\n",
    "for i in range(num_classes):\n",
    "    for j in range(num_classes):\n",
    "        count = cm[i][j]\n",
    "        y_true.extend([i] * count)\n",
    "        y_pred.extend([j] * count)\n",
    "\n",
    "target_names = ['Normal', 'Combined', 'DoS', 'Fuzzy', 'Gear', 'Interval', 'RPM', 'Speed', 'Standstill', 'Systematic']\n",
    "report = classification_report(y_true, y_pred, target_names=target_names, digits=4)\n",
    "print(\"Classification Report: Transfer learning E-Unicon \\n\", report)\n"
   ]
  },
  {
   "cell_type": "code",
   "execution_count": 34,
   "metadata": {},
   "outputs": [
    {
     "name": "stdout",
     "output_type": "stream",
     "text": [
      "Classification Report: Transfer learning UniCon Resnet \n",
      "               precision    recall  f1-score   support\n",
      "\n",
      "      Normal     0.9991    0.9968    0.9980     25551\n",
      "    Combined     0.9823    0.9840    0.9832       564\n",
      "         DoS     1.0000    1.0000    1.0000       334\n",
      "       Fuzzy     0.9534    0.9857    0.9693       560\n",
      "        Gear     0.9898    0.9848    0.9873       198\n",
      "    Interval     0.9819    0.9939    0.9878       327\n",
      "         RPM     0.9827    0.9965    0.9895       285\n",
      "       Speed     0.9883    0.9976    0.9930       425\n",
      "  Standstill     0.8333    0.9868    0.9036       152\n",
      "  Systematic     0.9737    0.9737    0.9737       266\n",
      "\n",
      "    accuracy                         0.9960     28662\n",
      "   macro avg     0.9685    0.9900    0.9785     28662\n",
      "weighted avg     0.9962    0.9960    0.9961     28662\n",
      "\n"
     ]
    }
   ],
   "source": [
    "from sklearn.metrics import classification_report\n",
    "import numpy as np\n",
    "# Confusion Matrix (cm)\n",
    "cm = np.array([\n",
    "    [25470,   10,    0,   20,    2,    5,    5,    5,   30,    4],\n",
    "    [    5,  555,    0,    2,    0,    1,    0,    0,    0,    1],\n",
    "    [    0,    0,  334,    0,    0,    0,    0,    0,    0,    0],\n",
    "    [    6,    0,    0,  552,    0,    0,    0,    0,    0,    2],\n",
    "    [    3,    0,    0,    0,  195,    0,    0,    0,    0,    0],\n",
    "    [    2,    0,    0,    0,    0,  325,    0,    0,    0,    0],\n",
    "    [    1,    0,    0,    0,    0,    0,  284,    0,    0,    0],\n",
    "    [    1,    0,    0,    0,    0,    0,    0,  424,    0,    0],\n",
    "    [    2,    0,    0,    0,    0,    0,    0,    0,  150,    0],\n",
    "    [    2,    0,    0,    5,    0,    0,    0,    0,    0,  259]\n",
    "])\n",
    "\n",
    "# Reconstruct y_true and y_pred from confusion matrix\n",
    "y_true = []\n",
    "y_pred = []\n",
    "\n",
    "num_classes = cm.shape[0]\n",
    "for i in range(num_classes):\n",
    "    for j in range(num_classes):\n",
    "        count = cm[i][j]\n",
    "        y_true.extend([i] * count)\n",
    "        y_pred.extend([j] * count)\n",
    "\n",
    "# Generate classification report\n",
    "target_names = ['Normal', 'Combined', 'DoS', 'Fuzzy', 'Gear', 'Interval', 'RPM', 'Speed', 'Standstill', 'Systematic']\n",
    "report = classification_report(y_true, y_pred, target_names=target_names, digits=4)\n",
    "print(\"Classification Report: Transfer learning UniCon Resnet \\n\", report)\n"
   ]
  },
  {
   "cell_type": "code",
   "execution_count": 35,
   "metadata": {},
   "outputs": [
    {
     "name": "stdout",
     "output_type": "stream",
     "text": [
      "Classification Report: ViT Train from scratch \n",
      "               precision    recall  f1-score   support\n",
      "\n",
      "      Normal     0.9979    0.9983    0.9981    156638\n",
      "    Combined     0.9832    0.9037    0.9418      2855\n",
      "         DoS     0.9925    0.9950    0.9938      2002\n",
      "       Fuzzy     0.9881    0.9791    0.9836      2722\n",
      "        Gear     0.9855    0.9742    0.9798      1047\n",
      "    Interval     0.9572    0.9737    0.9653       987\n",
      "         RPM     0.9772    0.9699    0.9735      1461\n",
      "       Speed     0.9684    0.9862    0.9772      2175\n",
      "  Standstill     0.9589    0.9737    0.9663       647\n",
      "  Systematic     0.8951    0.9886    0.9395      1399\n",
      "\n",
      "    accuracy                         0.9955    171933\n",
      "   macro avg     0.9704    0.9742    0.9719    171933\n",
      "weighted avg     0.9956    0.9955    0.9955    171933\n",
      "\n"
     ]
    }
   ],
   "source": [
    "from sklearn.metrics import classification_report\n",
    "import numpy as np\n",
    "\n",
    "cm = np.array([\n",
    "    [156370,   40,   10,   20,   10,   20,   15,   20,   10,  123],\n",
    "    [   210, 2580,    5,    5,    5,   20,   10,   10,    5,    5],\n",
    "    [     5,    0, 1992,    1,    0,    0,    2,    2,    0,    0],\n",
    "    [    40,    0,    0, 2665,    0,    0,    1,    5,    3,    8],\n",
    "    [    20,    1,    0,    1, 1020,    1,    1,    2,    0,    1],\n",
    "    [    15,    2,    0,    0,    0,  961,    1,    5,    2,    1],\n",
    "    [    10,    1,    0,    0,    0,    1, 1417,   25,    5,    2],\n",
    "    [     5,    0,    0,    0,    0,    1,    2, 2145,    1,   21],\n",
    "    [    14,    0,    0,    0,    0,    0,    1,    1,  630,    1],\n",
    "    [    10,    0,    0,    5,    0,    0,    0,    0,    1, 1383]\n",
    "])\n",
    "\n",
    "y_true = []\n",
    "y_pred = []\n",
    "\n",
    "num_classes = cm.shape[0]\n",
    "for i in range(num_classes):\n",
    "  for j in range(num_classes):\n",
    "    count = cm[i][j]\n",
    "    y_true.extend([i] * count)\n",
    "    y_pred.extend([j] * count)\n",
    "\n",
    "target_names = ['Normal', 'Combined', 'DoS', 'Fuzzy', 'Gear', 'Interval', 'RPM', 'Speed', 'Standstill', 'Systematic']\n",
    "report = classification_report(y_true, y_pred, target_names=target_names, digits=4)\n",
    "print(\"Classification Report: ViT Train from scratch \\n\", report)\n"
   ]
  }
 ],
 "metadata": {
  "kernelspec": {
   "display_name": "torchtf",
   "language": "python",
   "name": "python3"
  },
  "language_info": {
   "codemirror_mode": {
    "name": "ipython",
    "version": 3
   },
   "file_extension": ".py",
   "mimetype": "text/x-python",
   "name": "python",
   "nbconvert_exporter": "python",
   "pygments_lexer": "ipython3",
   "version": "3.9.18"
  }
 },
 "nbformat": 4,
 "nbformat_minor": 2
}
